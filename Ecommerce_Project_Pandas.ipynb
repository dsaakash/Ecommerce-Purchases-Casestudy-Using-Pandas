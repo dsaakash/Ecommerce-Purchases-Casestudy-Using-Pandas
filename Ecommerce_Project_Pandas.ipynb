{
 "cells": [
  {
   "cell_type": "markdown",
   "metadata": {
    "id": "xMOhwXdq6Nh4"
   },
   "source": [
    "# Ecommerce Purchases\n",
    "\n",
    "In this Exercise you will be given some Fake Data about some purchases done through Amazon! Just go ahead and follow the directions and try your best to answer the questions and complete the tasks. Feel free to reference the solutions. Most of the tasks can be solved in different ways. For the most part, the questions get progressively harder.\n",
    "\n",
    "Please excuse anything that doesn't make \"Real-World\" sense in the dataframe, all the data is fake and made-up.\n",
    "\n",
    "Also note that all of these questions can be answered with one line of code.\n",
    "____\n",
    "** Import pandas and read in the Ecommerce Purchases csv file and set it to a DataFrame called ecom. **"
   ]
  },
  {
   "cell_type": "code",
   "execution_count": 1,
   "metadata": {
    "id": "UetQk1Ua6Nh_"
   },
   "outputs": [],
   "source": [
    "import pandas as pd "
   ]
  },
  {
   "cell_type": "code",
   "execution_count": 2,
   "metadata": {
    "id": "sKIILelU6NiA"
   },
   "outputs": [],
   "source": [
    "ecom = pd.read_csv('Ecommerce Purchases.csv')"
   ]
  },
  {
   "cell_type": "markdown",
   "metadata": {
    "id": "pRo_Q3-j6NiB"
   },
   "source": [
    "**Check the head of the DataFrame.**"
   ]
  },
  {
   "cell_type": "code",
   "execution_count": 3,
   "metadata": {
    "id": "9KaZPbY76NiC",
    "outputId": "f4f18562-de22-4325-cba5-9e6e1cd1b8fa"
   },
   "outputs": [
    {
     "data": {
      "text/html": [
       "<div>\n",
       "<style scoped>\n",
       "    .dataframe tbody tr th:only-of-type {\n",
       "        vertical-align: middle;\n",
       "    }\n",
       "\n",
       "    .dataframe tbody tr th {\n",
       "        vertical-align: top;\n",
       "    }\n",
       "\n",
       "    .dataframe thead th {\n",
       "        text-align: right;\n",
       "    }\n",
       "</style>\n",
       "<table border=\"1\" class=\"dataframe\">\n",
       "  <thead>\n",
       "    <tr style=\"text-align: right;\">\n",
       "      <th></th>\n",
       "      <th>Address</th>\n",
       "      <th>Lot</th>\n",
       "      <th>AM or PM</th>\n",
       "      <th>Browser Info</th>\n",
       "      <th>Company</th>\n",
       "      <th>Credit Card</th>\n",
       "      <th>CC Exp Date</th>\n",
       "      <th>CC Security Code</th>\n",
       "      <th>CC Provider</th>\n",
       "      <th>Email</th>\n",
       "      <th>Job</th>\n",
       "      <th>IP Address</th>\n",
       "      <th>Language</th>\n",
       "      <th>Purchase Price</th>\n",
       "    </tr>\n",
       "  </thead>\n",
       "  <tbody>\n",
       "    <tr>\n",
       "      <th>0</th>\n",
       "      <td>16629 Pace Camp Apt. 448\\nAlexisborough, NE 77...</td>\n",
       "      <td>46 in</td>\n",
       "      <td>PM</td>\n",
       "      <td>Opera/9.56.(X11; Linux x86_64; sl-SI) Presto/2...</td>\n",
       "      <td>Martinez-Herman</td>\n",
       "      <td>6011929061123406</td>\n",
       "      <td>02/20</td>\n",
       "      <td>900</td>\n",
       "      <td>JCB 16 digit</td>\n",
       "      <td>pdunlap@yahoo.com</td>\n",
       "      <td>Scientist, product/process development</td>\n",
       "      <td>149.146.147.205</td>\n",
       "      <td>el</td>\n",
       "      <td>98.14</td>\n",
       "    </tr>\n",
       "    <tr>\n",
       "      <th>1</th>\n",
       "      <td>9374 Jasmine Spurs Suite 508\\nSouth John, TN 8...</td>\n",
       "      <td>28 rn</td>\n",
       "      <td>PM</td>\n",
       "      <td>Opera/8.93.(Windows 98; Win 9x 4.90; en-US) Pr...</td>\n",
       "      <td>Fletcher, Richards and Whitaker</td>\n",
       "      <td>3337758169645356</td>\n",
       "      <td>11/18</td>\n",
       "      <td>561</td>\n",
       "      <td>Mastercard</td>\n",
       "      <td>anthony41@reed.com</td>\n",
       "      <td>Drilling engineer</td>\n",
       "      <td>15.160.41.51</td>\n",
       "      <td>fr</td>\n",
       "      <td>70.73</td>\n",
       "    </tr>\n",
       "    <tr>\n",
       "      <th>2</th>\n",
       "      <td>Unit 0065 Box 5052\\nDPO AP 27450</td>\n",
       "      <td>94 vE</td>\n",
       "      <td>PM</td>\n",
       "      <td>Mozilla/5.0 (compatible; MSIE 9.0; Windows NT ...</td>\n",
       "      <td>Simpson, Williams and Pham</td>\n",
       "      <td>675957666125</td>\n",
       "      <td>08/19</td>\n",
       "      <td>699</td>\n",
       "      <td>JCB 16 digit</td>\n",
       "      <td>amymiller@morales-harrison.com</td>\n",
       "      <td>Customer service manager</td>\n",
       "      <td>132.207.160.22</td>\n",
       "      <td>de</td>\n",
       "      <td>0.95</td>\n",
       "    </tr>\n",
       "    <tr>\n",
       "      <th>3</th>\n",
       "      <td>7780 Julia Fords\\nNew Stacy, WA 45798</td>\n",
       "      <td>36 vm</td>\n",
       "      <td>PM</td>\n",
       "      <td>Mozilla/5.0 (Macintosh; Intel Mac OS X 10_8_0 ...</td>\n",
       "      <td>Williams, Marshall and Buchanan</td>\n",
       "      <td>6011578504430710</td>\n",
       "      <td>02/24</td>\n",
       "      <td>384</td>\n",
       "      <td>Discover</td>\n",
       "      <td>brent16@olson-robinson.info</td>\n",
       "      <td>Drilling engineer</td>\n",
       "      <td>30.250.74.19</td>\n",
       "      <td>es</td>\n",
       "      <td>78.04</td>\n",
       "    </tr>\n",
       "    <tr>\n",
       "      <th>4</th>\n",
       "      <td>23012 Munoz Drive Suite 337\\nNew Cynthia, TX 5...</td>\n",
       "      <td>20 IE</td>\n",
       "      <td>AM</td>\n",
       "      <td>Opera/9.58.(X11; Linux x86_64; it-IT) Presto/2...</td>\n",
       "      <td>Brown, Watson and Andrews</td>\n",
       "      <td>6011456623207998</td>\n",
       "      <td>10/25</td>\n",
       "      <td>678</td>\n",
       "      <td>Diners Club / Carte Blanche</td>\n",
       "      <td>christopherwright@gmail.com</td>\n",
       "      <td>Fine artist</td>\n",
       "      <td>24.140.33.94</td>\n",
       "      <td>es</td>\n",
       "      <td>77.82</td>\n",
       "    </tr>\n",
       "  </tbody>\n",
       "</table>\n",
       "</div>"
      ],
      "text/plain": [
       "                                             Address    Lot AM or PM  \\\n",
       "0  16629 Pace Camp Apt. 448\\nAlexisborough, NE 77...  46 in       PM   \n",
       "1  9374 Jasmine Spurs Suite 508\\nSouth John, TN 8...  28 rn       PM   \n",
       "2                   Unit 0065 Box 5052\\nDPO AP 27450  94 vE       PM   \n",
       "3              7780 Julia Fords\\nNew Stacy, WA 45798  36 vm       PM   \n",
       "4  23012 Munoz Drive Suite 337\\nNew Cynthia, TX 5...  20 IE       AM   \n",
       "\n",
       "                                        Browser Info  \\\n",
       "0  Opera/9.56.(X11; Linux x86_64; sl-SI) Presto/2...   \n",
       "1  Opera/8.93.(Windows 98; Win 9x 4.90; en-US) Pr...   \n",
       "2  Mozilla/5.0 (compatible; MSIE 9.0; Windows NT ...   \n",
       "3  Mozilla/5.0 (Macintosh; Intel Mac OS X 10_8_0 ...   \n",
       "4  Opera/9.58.(X11; Linux x86_64; it-IT) Presto/2...   \n",
       "\n",
       "                           Company       Credit Card CC Exp Date  \\\n",
       "0                  Martinez-Herman  6011929061123406       02/20   \n",
       "1  Fletcher, Richards and Whitaker  3337758169645356       11/18   \n",
       "2       Simpson, Williams and Pham      675957666125       08/19   \n",
       "3  Williams, Marshall and Buchanan  6011578504430710       02/24   \n",
       "4        Brown, Watson and Andrews  6011456623207998       10/25   \n",
       "\n",
       "   CC Security Code                  CC Provider  \\\n",
       "0               900                 JCB 16 digit   \n",
       "1               561                   Mastercard   \n",
       "2               699                 JCB 16 digit   \n",
       "3               384                     Discover   \n",
       "4               678  Diners Club / Carte Blanche   \n",
       "\n",
       "                            Email                                     Job  \\\n",
       "0               pdunlap@yahoo.com  Scientist, product/process development   \n",
       "1              anthony41@reed.com                       Drilling engineer   \n",
       "2  amymiller@morales-harrison.com                Customer service manager   \n",
       "3     brent16@olson-robinson.info                       Drilling engineer   \n",
       "4     christopherwright@gmail.com                             Fine artist   \n",
       "\n",
       "        IP Address Language  Purchase Price  \n",
       "0  149.146.147.205       el           98.14  \n",
       "1     15.160.41.51       fr           70.73  \n",
       "2   132.207.160.22       de            0.95  \n",
       "3     30.250.74.19       es           78.04  \n",
       "4     24.140.33.94       es           77.82  "
      ]
     },
     "execution_count": 3,
     "metadata": {},
     "output_type": "execute_result"
    }
   ],
   "source": [
    "ecom.head()"
   ]
  },
  {
   "cell_type": "markdown",
   "metadata": {
    "id": "oOIcxHPn6NiD"
   },
   "source": [
    "** How many rows and columns are there? **"
   ]
  },
  {
   "cell_type": "code",
   "execution_count": 4,
   "metadata": {
    "id": "eezdr4L-6NiE",
    "outputId": "26fd849e-db0d-481d-911f-28c1a5c62dc8"
   },
   "outputs": [
    {
     "name": "stdout",
     "output_type": "stream",
     "text": [
      "<class 'pandas.core.frame.DataFrame'>\n",
      "RangeIndex: 10000 entries, 0 to 9999\n",
      "Data columns (total 14 columns):\n",
      " #   Column            Non-Null Count  Dtype  \n",
      "---  ------            --------------  -----  \n",
      " 0   Address           10000 non-null  object \n",
      " 1   Lot               10000 non-null  object \n",
      " 2   AM or PM          10000 non-null  object \n",
      " 3   Browser Info      10000 non-null  object \n",
      " 4   Company           10000 non-null  object \n",
      " 5   Credit Card       10000 non-null  int64  \n",
      " 6   CC Exp Date       10000 non-null  object \n",
      " 7   CC Security Code  10000 non-null  int64  \n",
      " 8   CC Provider       10000 non-null  object \n",
      " 9   Email             10000 non-null  object \n",
      " 10  Job               10000 non-null  object \n",
      " 11  IP Address        10000 non-null  object \n",
      " 12  Language          10000 non-null  object \n",
      " 13  Purchase Price    10000 non-null  float64\n",
      "dtypes: float64(1), int64(2), object(11)\n",
      "memory usage: 1.1+ MB\n"
     ]
    }
   ],
   "source": [
    "ecom.info()"
   ]
  },
  {
   "cell_type": "markdown",
   "metadata": {
    "id": "mByJhnrY6NiF"
   },
   "source": [
    "** What is the average Purchase Price? **"
   ]
  },
  {
   "cell_type": "code",
   "execution_count": 5,
   "metadata": {
    "id": "Eo8saflE6NiG",
    "outputId": "9d44de8c-9f25-42cd-cb94-a80f3bf62c42"
   },
   "outputs": [
    {
     "name": "stdout",
     "output_type": "stream",
     "text": [
      "Average Purchase Price: 50.347302\n"
     ]
    }
   ],
   "source": [
    "average_purchase_price = ecom['Purchase Price'].mean()\n",
    "\n",
    "print(\"Average Purchase Price:\", average_purchase_price)"
   ]
  },
  {
   "cell_type": "markdown",
   "metadata": {
    "id": "VR0KXCuc6NiI"
   },
   "source": [
    "** What were the highest and lowest purchase prices? **"
   ]
  },
  {
   "cell_type": "code",
   "execution_count": 8,
   "metadata": {
    "id": "vXg2YOjt6NiJ",
    "outputId": "a00e59b4-73be-4cd9-e82b-b78c4409d6c7"
   },
   "outputs": [
    {
     "name": "stdout",
     "output_type": "stream",
     "text": [
      "Highest Purchase Price: 99.99\n",
      "Lowest Purchase Price: 0.0\n"
     ]
    }
   ],
   "source": [
    "highest_purchase_price = ecom['Purchase Price'].max()\n",
    "\n",
    "\n",
    "print(\"Highest Purchase Price:\", highest_purchase_price)\n"
   ]
  },
  {
   "cell_type": "code",
   "execution_count": 10,
   "metadata": {
    "id": "AiSN9RGU6NiJ",
    "outputId": "4edb3fa8-0caf-43da-b015-caecbfed36c1"
   },
   "outputs": [
    {
     "name": "stdout",
     "output_type": "stream",
     "text": [
      "Lowest Purchase Price: 0.0\n"
     ]
    }
   ],
   "source": [
    "lowest_purchase_price = ecom['Purchase Price'].min()\n",
    "print(\"Lowest Purchase Price:\", lowest_purchase_price)"
   ]
  },
  {
   "cell_type": "code",
   "execution_count": null,
   "metadata": {},
   "outputs": [],
   "source": []
  },
  {
   "cell_type": "markdown",
   "metadata": {
    "id": "jgT73y2U6NiK"
   },
   "source": [
    "** How many people have English 'en' as their Language of choice on the website? **"
   ]
  },
  {
   "cell_type": "code",
   "execution_count": 14,
   "metadata": {
    "id": "YlaHo_TJ6NiL",
    "outputId": "1182f976-5517-4af3-faea-8188d6d278a1"
   },
   "outputs": [
    {
     "name": "stdout",
     "output_type": "stream",
     "text": [
      "Address             1098\n",
      "Lot                 1098\n",
      "AM or PM            1098\n",
      "Browser Info        1098\n",
      "Company             1098\n",
      "Credit Card         1098\n",
      "CC Exp Date         1098\n",
      "CC Security Code    1098\n",
      "CC Provider         1098\n",
      "Email               1098\n",
      "Job                 1098\n",
      "IP Address          1098\n",
      "Language            1098\n",
      "Purchase Price      1098\n",
      "dtype: int64\n"
     ]
    }
   ],
   "source": [
    "# Filter the DataFrame for English language ('en')\n",
    "english_users = ecom[ecom['Language'] == 'en']\n",
    "\n",
    "# Count the number of English users\n",
    "num_english_users = len(english_users)\n",
    "\n",
    "# Display the count for each column\n",
    "column_counts = english_users.count()\n",
    "print(column_counts)"
   ]
  },
  {
   "cell_type": "code",
   "execution_count": 27,
   "metadata": {},
   "outputs": [
    {
     "name": "stdout",
     "output_type": "stream",
     "text": [
      "Number of Lawyers: 30\n",
      "\n",
      "Lawyer Users:\n",
      "                                                Address    Lot AM or PM  \\\n",
      "470   9310 Bailey Mountain Apt. 832\\nLake Jacqueline...  67 tQ       PM   \n",
      "508     5064 Nicole Circle\\nJohnsonburgh, NM 78266-6283  53 rJ       PM   \n",
      "1275  4394 Sherry Row Suite 034\\nSouth Rebecca, MD 6...  80 jP       PM   \n",
      "1569  91733 King Mountains Apt. 356\\nSouth Tammy, NE...  20 Aa       AM   \n",
      "1682      5691 Fox Mountains\\nDudleyside, GU 66765-2101  67 Bk       AM   \n",
      "2164  57897 Stacey Pass\\nLake Jacquelinestad, MA 038...  61 DY       PM   \n",
      "2619   720 Laurie Plains Apt. 458\\nChavezfurt, DE 05290  38 gp       AM   \n",
      "2935         816 Cheyenne Causeway\\nHeidibury, FL 10365  70 nu       AM   \n",
      "3663       6218 Mendez Estate\\nEast Kylemouth, MI 80812  63 BG       PM   \n",
      "3738   3921 Courtney River\\nSouth Donaldmouth, AK 78115  85 Rh       AM   \n",
      "3966  3465 Hunter Streets Apt. 976\\nMedinachester, W...  07 xf       PM   \n",
      "5053       88431 Thomas Stream\\nMartinchester, WA 82488  19 fZ       PM   \n",
      "5339  50013 Jones Land\\nPort Jenniferstad, VI 84345-...  77 nA       PM   \n",
      "5452  8651 Joseph Gateway\\nSandraborough, ID 48764-6892  70 aF       AM   \n",
      "5562  2392 Fry Road Suite 714\\nSouth Victoriaview, C...  85 Cr       AM   \n",
      "5974          832 Summers Lodge\\nBrentchester, PW 38987  91 Sd       PM   \n",
      "6131        453 Lisa Drive\\nWest Heather, AZ 49188-3413  59 sI       PM   \n",
      "6136  67830 Price Key Apt. 411\\nLake Jenniferburgh, ...  64 Ht       AM   \n",
      "6220    0038 Miranda Street\\nMichaelview, LA 12123-4297  32 BP       AM   \n",
      "7368  06123 Alexis Rue Apt. 143\\nSimsmouth, AR 41045...  27 Lo       PM   \n",
      "7645       200 Sanford Loop\\nMatthewberg, AK 13066-6861  17 mB       AM   \n",
      "8127  5369 Angela Shore Apt. 875\\nNorth Morganside, ...  96 QP       AM   \n",
      "8220      25263 Johnson Inlet\\nSarahland, GU 69754-3605  31 An       AM   \n",
      "8620  0072 Arnold Courts Apt. 311\\nNew Joel, MA 2414...  97 Nt       PM   \n",
      "8683       13869 Blake Stravenue\\nNorth Jacob, OH 51897  50 eG       PM   \n",
      "8801  6595 Patrick Terrace Suite 769\\nAshleyfurt, SD...  41 Bg       AM   \n",
      "8860      4293 Patterson Roads\\nBrittanyburgh, GU 64922  00 lm       AM   \n",
      "9175           3414 Burton Inlet\\nNew Timothy, MO 26285  55 ZT       AM   \n",
      "9659                 6229 Le Isle\\nWrightside, FM 34946  46 nn       PM   \n",
      "9979  00490 Joseph Haven Apt. 149\\nWest Keithfurt, S...  69 XK       PM   \n",
      "\n",
      "                                           Browser Info  \\\n",
      "470   Mozilla/5.0 (X11; Linux x86_64; rv:1.9.7.20) G...   \n",
      "508   Mozilla/5.0 (Windows NT 5.2; it-IT; rv:1.9.1.2...   \n",
      "1275  Opera/9.29.(Windows NT 5.2; en-US) Presto/2.9....   \n",
      "1569  Mozilla/5.0 (Macintosh; U; Intel Mac OS X 10_7...   \n",
      "1682  Mozilla/5.0 (Macintosh; U; Intel Mac OS X 10_6...   \n",
      "2164  Opera/8.75.(X11; Linux i686; en-US) Presto/2.9...   \n",
      "2619  Opera/8.10.(X11; Linux x86_64; sl-SI) Presto/2...   \n",
      "2935  Mozilla/5.0 (X11; Linux i686; rv:1.9.5.20) Gec...   \n",
      "3663  Mozilla/5.0 (Macintosh; U; PPC Mac OS X 10_6_3...   \n",
      "3738  Mozilla/5.0 (X11; Linux x86_64; rv:1.9.5.20) G...   \n",
      "3966  Mozilla/5.0 (Windows; U; Windows NT 5.1) Apple...   \n",
      "5053  Mozilla/5.0 (compatible; MSIE 6.0; Windows NT ...   \n",
      "5339  Opera/9.30.(X11; Linux x86_64; sl-SI) Presto/2...   \n",
      "5452  Mozilla/5.0 (compatible; MSIE 6.0; Windows NT ...   \n",
      "5562  Mozilla/5.0 (Windows; U; Windows 98; Win 9x 4....   \n",
      "5974  Opera/8.24.(Windows NT 4.0; en-US) Presto/2.9....   \n",
      "6131  Opera/9.98.(Windows NT 5.0; it-IT) Presto/2.9....   \n",
      "6136  Mozilla/5.0 (Macintosh; PPC Mac OS X 10_5_4; r...   \n",
      "6220  Opera/8.25.(Windows NT 6.0; en-US) Presto/2.9....   \n",
      "7368  Opera/8.55.(X11; Linux i686; en-US) Presto/2.9...   \n",
      "7645  Mozilla/5.0 (Windows 98; Win 9x 4.90; en-US; r...   \n",
      "8127  Mozilla/5.0 (X11; Linux x86_64; rv:1.9.6.20) G...   \n",
      "8220  Mozilla/5.0 (Macintosh; U; PPC Mac OS X 10_7_5...   \n",
      "8620  Mozilla/5.0 (Macintosh; Intel Mac OS X 10_7_7 ...   \n",
      "8683  Opera/8.10.(X11; Linux i686; sl-SI) Presto/2.9...   \n",
      "8801  Mozilla/5.0 (X11; Linux x86_64; rv:1.9.6.20) G...   \n",
      "8860  Mozilla/5.0 (iPod; U; CPU iPhone OS 3_2 like M...   \n",
      "9175  Mozilla/5.0 (Macintosh; U; PPC Mac OS X 10_8_6...   \n",
      "9659  Mozilla/5.0 (Macintosh; Intel Mac OS X 10_6_2;...   \n",
      "9979  Mozilla/5.0 (Windows NT 6.1) AppleWebKit/5311 ...   \n",
      "\n",
      "                           Company       Credit Card CC Exp Date  \\\n",
      "470                    White-Hicks   210056645973585       03/19   \n",
      "508   Mcdonald, Green and Jennings  4040542728940631       06/26   \n",
      "1275                  Brewer-Smith  3096214913494379       04/17   \n",
      "1569                Hamilton Group   340721115247942       08/24   \n",
      "1682                   Barker-Hill   346047712475429       06/18   \n",
      "2164   Strickland, Kim and Roberts   378553048291720       05/24   \n",
      "2619                Chang and Sons   869923449114563       02/21   \n",
      "2935                      Tran Ltd  4211556868948397       07/17   \n",
      "3663                    Powell Inc     4984963883682       05/23   \n",
      "3738                  Harris-Green   210058711225817       05/19   \n",
      "3966          Fitzpatrick and Sons  5403618183998542       12/25   \n",
      "5053                 Spencer-Evans  3088802632134019       05/22   \n",
      "5339                 Morales-Patel  3088634689927957       10/16   \n",
      "5452                 Ross and Sons   344498441835254       03/20   \n",
      "5562                 Bishop-Rhodes    30488163899348       12/24   \n",
      "5974                     Hurst Inc  4248410460532828       10/23   \n",
      "6131     Gordon, Jackson and Gibbs   869969268212053       08/22   \n",
      "6136                   Hayes-Brown  5228370971923059       06/23   \n",
      "6220                     Moore Inc   344501266556242       04/17   \n",
      "7368                     Costa Ltd   869998170306422       08/22   \n",
      "7645        Evans, Nguyen and Gray      589387098561       02/23   \n",
      "8127                   Walters LLC  4206351720932814       05/17   \n",
      "8220                    Riddle LLC   180022232791885       10/20   \n",
      "8620                Morales-Wilson  3158975362628874       03/25   \n",
      "8683                      Bush LLC  5151177972247169       03/21   \n",
      "8801                  Cooper Group      676110036222       03/20   \n",
      "8860                     Lyons PLC  3337077857374496       05/17   \n",
      "9175               Gutierrez-Payne   180014876668230       03/23   \n",
      "9659                Silva-Townsend  4870145714276385       04/19   \n",
      "9979               Randall-Ramirez   346734838013255       10/23   \n",
      "\n",
      "      CC Security Code                  CC Provider  \\\n",
      "470                726                      Voyager   \n",
      "508                101                VISA 16 digit   \n",
      "1275               124                 JCB 15 digit   \n",
      "1569               673                VISA 16 digit   \n",
      "1682               672                VISA 13 digit   \n",
      "2164               547                VISA 16 digit   \n",
      "2619               867                VISA 13 digit   \n",
      "2935               602                     Discover   \n",
      "3663               758                 JCB 15 digit   \n",
      "3738              6981                      Maestro   \n",
      "3966              9335                 JCB 16 digit   \n",
      "5053               648                VISA 16 digit   \n",
      "5339               437                      Voyager   \n",
      "5452               990                VISA 13 digit   \n",
      "5562               559                   Mastercard   \n",
      "5974               698                      Maestro   \n",
      "6131               886                 JCB 15 digit   \n",
      "6136               594                 JCB 16 digit   \n",
      "6220               603             American Express   \n",
      "7368               339                      Voyager   \n",
      "7645               550                VISA 16 digit   \n",
      "8127               742                VISA 16 digit   \n",
      "8220               289                VISA 16 digit   \n",
      "8620               241                 JCB 16 digit   \n",
      "8683               681                 JCB 15 digit   \n",
      "8801               497                 JCB 16 digit   \n",
      "8860               383                      Maestro   \n",
      "9175               169                VISA 13 digit   \n",
      "9659               634  Diners Club / Carte Blanche   \n",
      "9979               224                 JCB 16 digit   \n",
      "\n",
      "                                  Email     Job       IP Address Language  \\\n",
      "470     francisjohnson@peters-green.com  Lawyer    253.78.210.57       it   \n",
      "508                 karen24@hotmail.com  Lawyer    13.128.34.120       ru   \n",
      "1275           robertrobertson@ford.biz  Lawyer    245.31.38.181       el   \n",
      "1569               denise22@hotmail.com  Lawyer       147.0.2.29       pt   \n",
      "1682            roblesallen@hotmail.com  Lawyer   113.242.220.16       it   \n",
      "2164             tinafranklin@gmail.com  Lawyer    207.151.62.49       el   \n",
      "2619          tyler64@burgess-sharp.com  Lawyer  225.153.247.249       de   \n",
      "2935           sydney61@yates-smith.com  Lawyer    212.2.227.232       it   \n",
      "3663            maryherrera@collier.com  Lawyer    10.241.193.16       zh   \n",
      "3738           williamsontroy@yahoo.com  Lawyer    249.152.45.19       es   \n",
      "3966  jacksoncheryl@baird-armstrong.com  Lawyer       94.17.2.25       pt   \n",
      "5053          alisonblackwell@lewis.com  Lawyer  247.164.255.233       de   \n",
      "5339        benitezbrittany@johnson.com  Lawyer   161.31.240.143       ru   \n",
      "5452                  nwalker@yahoo.com  Lawyer      53.90.42.20       es   \n",
      "5562                 joshua94@yahoo.com  Lawyer    195.69.172.99       pt   \n",
      "5974           johnsonlaura@hotmail.com  Lawyer  196.207.196.174       zh   \n",
      "6131          kimberlyzavala@massey.net  Lawyer    55.247.68.237       pt   \n",
      "6136                  julie99@yahoo.com  Lawyer   162.133.141.79       de   \n",
      "6220                   wclark@gmail.com  Lawyer    83.89.166.161       ru   \n",
      "7368          charlottecampos@yahoo.com  Lawyer     91.38.22.239       ru   \n",
      "7645                crystal82@yahoo.com  Lawyer     71.114.92.68       it   \n",
      "8127                 efischer@yahoo.com  Lawyer    184.37.191.49       pt   \n",
      "8220             vincentdylan@yahoo.com  Lawyer   94.127.196.157       el   \n",
      "8620                 daniel29@gmail.com  Lawyer    139.183.3.134       it   \n",
      "8683               harperadam@yahoo.com  Lawyer      28.68.5.233       de   \n",
      "8801              kenneth03@hotmail.com  Lawyer     41.69.43.163       it   \n",
      "8860           francissmith@hotmail.com  Lawyer  142.243.115.230       de   \n",
      "9175                    ybarr@gmail.com  Lawyer   227.185.61.154       pt   \n",
      "9659               george28@johnson.com  Lawyer   144.223.178.78       el   \n",
      "9979                 qjohnson@yahoo.com  Lawyer     17.76.83.105       en   \n",
      "\n",
      "      Purchase Price  \n",
      "470            64.50  \n",
      "508            94.40  \n",
      "1275           58.05  \n",
      "1569           30.64  \n",
      "1682           71.35  \n",
      "2164           80.75  \n",
      "2619           68.36  \n",
      "2935           13.23  \n",
      "3663           37.17  \n",
      "3738           88.86  \n",
      "3966           67.40  \n",
      "5053           28.77  \n",
      "5339           94.17  \n",
      "5452           97.06  \n",
      "5562            4.01  \n",
      "5974           37.87  \n",
      "6131           71.57  \n",
      "6136           85.56  \n",
      "6220           52.04  \n",
      "7368           52.12  \n",
      "7645           93.34  \n",
      "8127           76.88  \n",
      "8220           15.49  \n",
      "8620           55.26  \n",
      "8683           15.95  \n",
      "8801           21.12  \n",
      "8860            9.93  \n",
      "9175           30.58  \n",
      "9659           72.87  \n",
      "9979           14.55  \n"
     ]
    }
   ],
   "source": [
    "# Filter the DataFrame for job title \"Lawyer\"\n",
    "lawyer_users = ecom[ecom['Job'] == 'Lawyer']\n",
    "\n",
    "# Count the number of users with the job title \"Lawyer\"\n",
    "num_lawyers = len(lawyer_users)\n",
    "\n",
    "# Display the count and DataFrame for lawyer users\n",
    "print(\"Number of Lawyers:\", num_lawyers)\n",
    "print(\"\\nLawyer Users:\")\n",
    "print(lawyer_users)"
   ]
  },
  {
   "cell_type": "markdown",
   "metadata": {
    "id": "8agrBKG46NiL"
   },
   "source": [
    "** How many people have the job title of \"Lawyer\" ? **\n"
   ]
  },
  {
   "cell_type": "code",
   "execution_count": 30,
   "metadata": {},
   "outputs": [
    {
     "name": "stdout",
     "output_type": "stream",
     "text": [
      "Number of Lawyers: 30\n",
      "\n",
      "Lawyer Users:\n",
      "                                                Address    Lot AM or PM  \\\n",
      "470   9310 Bailey Mountain Apt. 832\\nLake Jacqueline...  67 tQ       PM   \n",
      "508     5064 Nicole Circle\\nJohnsonburgh, NM 78266-6283  53 rJ       PM   \n",
      "1275  4394 Sherry Row Suite 034\\nSouth Rebecca, MD 6...  80 jP       PM   \n",
      "1569  91733 King Mountains Apt. 356\\nSouth Tammy, NE...  20 Aa       AM   \n",
      "1682      5691 Fox Mountains\\nDudleyside, GU 66765-2101  67 Bk       AM   \n",
      "2164  57897 Stacey Pass\\nLake Jacquelinestad, MA 038...  61 DY       PM   \n",
      "2619   720 Laurie Plains Apt. 458\\nChavezfurt, DE 05290  38 gp       AM   \n",
      "2935         816 Cheyenne Causeway\\nHeidibury, FL 10365  70 nu       AM   \n",
      "3663       6218 Mendez Estate\\nEast Kylemouth, MI 80812  63 BG       PM   \n",
      "3738   3921 Courtney River\\nSouth Donaldmouth, AK 78115  85 Rh       AM   \n",
      "3966  3465 Hunter Streets Apt. 976\\nMedinachester, W...  07 xf       PM   \n",
      "5053       88431 Thomas Stream\\nMartinchester, WA 82488  19 fZ       PM   \n",
      "5339  50013 Jones Land\\nPort Jenniferstad, VI 84345-...  77 nA       PM   \n",
      "5452  8651 Joseph Gateway\\nSandraborough, ID 48764-6892  70 aF       AM   \n",
      "5562  2392 Fry Road Suite 714\\nSouth Victoriaview, C...  85 Cr       AM   \n",
      "5974          832 Summers Lodge\\nBrentchester, PW 38987  91 Sd       PM   \n",
      "6131        453 Lisa Drive\\nWest Heather, AZ 49188-3413  59 sI       PM   \n",
      "6136  67830 Price Key Apt. 411\\nLake Jenniferburgh, ...  64 Ht       AM   \n",
      "6220    0038 Miranda Street\\nMichaelview, LA 12123-4297  32 BP       AM   \n",
      "7368  06123 Alexis Rue Apt. 143\\nSimsmouth, AR 41045...  27 Lo       PM   \n",
      "7645       200 Sanford Loop\\nMatthewberg, AK 13066-6861  17 mB       AM   \n",
      "8127  5369 Angela Shore Apt. 875\\nNorth Morganside, ...  96 QP       AM   \n",
      "8220      25263 Johnson Inlet\\nSarahland, GU 69754-3605  31 An       AM   \n",
      "8620  0072 Arnold Courts Apt. 311\\nNew Joel, MA 2414...  97 Nt       PM   \n",
      "8683       13869 Blake Stravenue\\nNorth Jacob, OH 51897  50 eG       PM   \n",
      "8801  6595 Patrick Terrace Suite 769\\nAshleyfurt, SD...  41 Bg       AM   \n",
      "8860      4293 Patterson Roads\\nBrittanyburgh, GU 64922  00 lm       AM   \n",
      "9175           3414 Burton Inlet\\nNew Timothy, MO 26285  55 ZT       AM   \n",
      "9659                 6229 Le Isle\\nWrightside, FM 34946  46 nn       PM   \n",
      "9979  00490 Joseph Haven Apt. 149\\nWest Keithfurt, S...  69 XK       PM   \n",
      "\n",
      "                                           Browser Info  \\\n",
      "470   Mozilla/5.0 (X11; Linux x86_64; rv:1.9.7.20) G...   \n",
      "508   Mozilla/5.0 (Windows NT 5.2; it-IT; rv:1.9.1.2...   \n",
      "1275  Opera/9.29.(Windows NT 5.2; en-US) Presto/2.9....   \n",
      "1569  Mozilla/5.0 (Macintosh; U; Intel Mac OS X 10_7...   \n",
      "1682  Mozilla/5.0 (Macintosh; U; Intel Mac OS X 10_6...   \n",
      "2164  Opera/8.75.(X11; Linux i686; en-US) Presto/2.9...   \n",
      "2619  Opera/8.10.(X11; Linux x86_64; sl-SI) Presto/2...   \n",
      "2935  Mozilla/5.0 (X11; Linux i686; rv:1.9.5.20) Gec...   \n",
      "3663  Mozilla/5.0 (Macintosh; U; PPC Mac OS X 10_6_3...   \n",
      "3738  Mozilla/5.0 (X11; Linux x86_64; rv:1.9.5.20) G...   \n",
      "3966  Mozilla/5.0 (Windows; U; Windows NT 5.1) Apple...   \n",
      "5053  Mozilla/5.0 (compatible; MSIE 6.0; Windows NT ...   \n",
      "5339  Opera/9.30.(X11; Linux x86_64; sl-SI) Presto/2...   \n",
      "5452  Mozilla/5.0 (compatible; MSIE 6.0; Windows NT ...   \n",
      "5562  Mozilla/5.0 (Windows; U; Windows 98; Win 9x 4....   \n",
      "5974  Opera/8.24.(Windows NT 4.0; en-US) Presto/2.9....   \n",
      "6131  Opera/9.98.(Windows NT 5.0; it-IT) Presto/2.9....   \n",
      "6136  Mozilla/5.0 (Macintosh; PPC Mac OS X 10_5_4; r...   \n",
      "6220  Opera/8.25.(Windows NT 6.0; en-US) Presto/2.9....   \n",
      "7368  Opera/8.55.(X11; Linux i686; en-US) Presto/2.9...   \n",
      "7645  Mozilla/5.0 (Windows 98; Win 9x 4.90; en-US; r...   \n",
      "8127  Mozilla/5.0 (X11; Linux x86_64; rv:1.9.6.20) G...   \n",
      "8220  Mozilla/5.0 (Macintosh; U; PPC Mac OS X 10_7_5...   \n",
      "8620  Mozilla/5.0 (Macintosh; Intel Mac OS X 10_7_7 ...   \n",
      "8683  Opera/8.10.(X11; Linux i686; sl-SI) Presto/2.9...   \n",
      "8801  Mozilla/5.0 (X11; Linux x86_64; rv:1.9.6.20) G...   \n",
      "8860  Mozilla/5.0 (iPod; U; CPU iPhone OS 3_2 like M...   \n",
      "9175  Mozilla/5.0 (Macintosh; U; PPC Mac OS X 10_8_6...   \n",
      "9659  Mozilla/5.0 (Macintosh; Intel Mac OS X 10_6_2;...   \n",
      "9979  Mozilla/5.0 (Windows NT 6.1) AppleWebKit/5311 ...   \n",
      "\n",
      "                           Company       Credit Card CC Exp Date  \\\n",
      "470                    White-Hicks   210056645973585       03/19   \n",
      "508   Mcdonald, Green and Jennings  4040542728940631       06/26   \n",
      "1275                  Brewer-Smith  3096214913494379       04/17   \n",
      "1569                Hamilton Group   340721115247942       08/24   \n",
      "1682                   Barker-Hill   346047712475429       06/18   \n",
      "2164   Strickland, Kim and Roberts   378553048291720       05/24   \n",
      "2619                Chang and Sons   869923449114563       02/21   \n",
      "2935                      Tran Ltd  4211556868948397       07/17   \n",
      "3663                    Powell Inc     4984963883682       05/23   \n",
      "3738                  Harris-Green   210058711225817       05/19   \n",
      "3966          Fitzpatrick and Sons  5403618183998542       12/25   \n",
      "5053                 Spencer-Evans  3088802632134019       05/22   \n",
      "5339                 Morales-Patel  3088634689927957       10/16   \n",
      "5452                 Ross and Sons   344498441835254       03/20   \n",
      "5562                 Bishop-Rhodes    30488163899348       12/24   \n",
      "5974                     Hurst Inc  4248410460532828       10/23   \n",
      "6131     Gordon, Jackson and Gibbs   869969268212053       08/22   \n",
      "6136                   Hayes-Brown  5228370971923059       06/23   \n",
      "6220                     Moore Inc   344501266556242       04/17   \n",
      "7368                     Costa Ltd   869998170306422       08/22   \n",
      "7645        Evans, Nguyen and Gray      589387098561       02/23   \n",
      "8127                   Walters LLC  4206351720932814       05/17   \n",
      "8220                    Riddle LLC   180022232791885       10/20   \n",
      "8620                Morales-Wilson  3158975362628874       03/25   \n",
      "8683                      Bush LLC  5151177972247169       03/21   \n",
      "8801                  Cooper Group      676110036222       03/20   \n",
      "8860                     Lyons PLC  3337077857374496       05/17   \n",
      "9175               Gutierrez-Payne   180014876668230       03/23   \n",
      "9659                Silva-Townsend  4870145714276385       04/19   \n",
      "9979               Randall-Ramirez   346734838013255       10/23   \n",
      "\n",
      "      CC Security Code                  CC Provider  \\\n",
      "470                726                      Voyager   \n",
      "508                101                VISA 16 digit   \n",
      "1275               124                 JCB 15 digit   \n",
      "1569               673                VISA 16 digit   \n",
      "1682               672                VISA 13 digit   \n",
      "2164               547                VISA 16 digit   \n",
      "2619               867                VISA 13 digit   \n",
      "2935               602                     Discover   \n",
      "3663               758                 JCB 15 digit   \n",
      "3738              6981                      Maestro   \n",
      "3966              9335                 JCB 16 digit   \n",
      "5053               648                VISA 16 digit   \n",
      "5339               437                      Voyager   \n",
      "5452               990                VISA 13 digit   \n",
      "5562               559                   Mastercard   \n",
      "5974               698                      Maestro   \n",
      "6131               886                 JCB 15 digit   \n",
      "6136               594                 JCB 16 digit   \n",
      "6220               603             American Express   \n",
      "7368               339                      Voyager   \n",
      "7645               550                VISA 16 digit   \n",
      "8127               742                VISA 16 digit   \n",
      "8220               289                VISA 16 digit   \n",
      "8620               241                 JCB 16 digit   \n",
      "8683               681                 JCB 15 digit   \n",
      "8801               497                 JCB 16 digit   \n",
      "8860               383                      Maestro   \n",
      "9175               169                VISA 13 digit   \n",
      "9659               634  Diners Club / Carte Blanche   \n",
      "9979               224                 JCB 16 digit   \n",
      "\n",
      "                                  Email     Job       IP Address Language  \\\n",
      "470     francisjohnson@peters-green.com  Lawyer    253.78.210.57       it   \n",
      "508                 karen24@hotmail.com  Lawyer    13.128.34.120       ru   \n",
      "1275           robertrobertson@ford.biz  Lawyer    245.31.38.181       el   \n",
      "1569               denise22@hotmail.com  Lawyer       147.0.2.29       pt   \n",
      "1682            roblesallen@hotmail.com  Lawyer   113.242.220.16       it   \n",
      "2164             tinafranklin@gmail.com  Lawyer    207.151.62.49       el   \n",
      "2619          tyler64@burgess-sharp.com  Lawyer  225.153.247.249       de   \n",
      "2935           sydney61@yates-smith.com  Lawyer    212.2.227.232       it   \n",
      "3663            maryherrera@collier.com  Lawyer    10.241.193.16       zh   \n",
      "3738           williamsontroy@yahoo.com  Lawyer    249.152.45.19       es   \n",
      "3966  jacksoncheryl@baird-armstrong.com  Lawyer       94.17.2.25       pt   \n",
      "5053          alisonblackwell@lewis.com  Lawyer  247.164.255.233       de   \n",
      "5339        benitezbrittany@johnson.com  Lawyer   161.31.240.143       ru   \n",
      "5452                  nwalker@yahoo.com  Lawyer      53.90.42.20       es   \n",
      "5562                 joshua94@yahoo.com  Lawyer    195.69.172.99       pt   \n",
      "5974           johnsonlaura@hotmail.com  Lawyer  196.207.196.174       zh   \n",
      "6131          kimberlyzavala@massey.net  Lawyer    55.247.68.237       pt   \n",
      "6136                  julie99@yahoo.com  Lawyer   162.133.141.79       de   \n",
      "6220                   wclark@gmail.com  Lawyer    83.89.166.161       ru   \n",
      "7368          charlottecampos@yahoo.com  Lawyer     91.38.22.239       ru   \n",
      "7645                crystal82@yahoo.com  Lawyer     71.114.92.68       it   \n",
      "8127                 efischer@yahoo.com  Lawyer    184.37.191.49       pt   \n",
      "8220             vincentdylan@yahoo.com  Lawyer   94.127.196.157       el   \n",
      "8620                 daniel29@gmail.com  Lawyer    139.183.3.134       it   \n",
      "8683               harperadam@yahoo.com  Lawyer      28.68.5.233       de   \n",
      "8801              kenneth03@hotmail.com  Lawyer     41.69.43.163       it   \n",
      "8860           francissmith@hotmail.com  Lawyer  142.243.115.230       de   \n",
      "9175                    ybarr@gmail.com  Lawyer   227.185.61.154       pt   \n",
      "9659               george28@johnson.com  Lawyer   144.223.178.78       el   \n",
      "9979                 qjohnson@yahoo.com  Lawyer     17.76.83.105       en   \n",
      "\n",
      "      Purchase Price  \n",
      "470            64.50  \n",
      "508            94.40  \n",
      "1275           58.05  \n",
      "1569           30.64  \n",
      "1682           71.35  \n",
      "2164           80.75  \n",
      "2619           68.36  \n",
      "2935           13.23  \n",
      "3663           37.17  \n",
      "3738           88.86  \n",
      "3966           67.40  \n",
      "5053           28.77  \n",
      "5339           94.17  \n",
      "5452           97.06  \n",
      "5562            4.01  \n",
      "5974           37.87  \n",
      "6131           71.57  \n",
      "6136           85.56  \n",
      "6220           52.04  \n",
      "7368           52.12  \n",
      "7645           93.34  \n",
      "8127           76.88  \n",
      "8220           15.49  \n",
      "8620           55.26  \n",
      "8683           15.95  \n",
      "8801           21.12  \n",
      "8860            9.93  \n",
      "9175           30.58  \n",
      "9659           72.87  \n",
      "9979           14.55  \n"
     ]
    }
   ],
   "source": [
    "# Filter the DataFrame for job title \"Lawyer\"\n",
    "lawyer_users = ecom[ecom['Job'] == 'Lawyer']\n",
    "\n",
    "# Count the number of users with the job title \"Lawyer\"\n",
    "num_lawyers = len(lawyer_users)\n",
    "\n",
    "# Display the count and DataFrame for lawyer users\n",
    "print(\"Number of Lawyers:\", num_lawyers)\n",
    "print(\"\\nLawyer Users:\")\n",
    "print(lawyer_users[['Address', 'Lot', 'AM or PM', 'Browser Info', 'Company', 'Credit Card', 'CC Exp Date', 'CC Security Code', 'CC Provider', 'Email', 'Job', 'IP Address', 'Language', 'Purchase Price']])"
   ]
  },
  {
   "cell_type": "code",
   "execution_count": null,
   "metadata": {
    "id": "mg6IVrKZ6NiM",
    "outputId": "5a71a959-2070-4aab-9a07-d15d162ae01b"
   },
   "outputs": [
    {
     "name": "stdout",
     "output_type": "stream",
     "text": [
      "<class 'pandas.core.frame.DataFrame'>\n",
      "Int64Index: 30 entries, 470 to 9979\n",
      "Data columns (total 14 columns):\n",
      "Address             30 non-null object\n",
      "Lot                 30 non-null object\n",
      "AM or PM            30 non-null object\n",
      "Browser Info        30 non-null object\n",
      "Company             30 non-null object\n",
      "Credit Card         30 non-null int64\n",
      "CC Exp Date         30 non-null object\n",
      "CC Security Code    30 non-null int64\n",
      "CC Provider         30 non-null object\n",
      "Email               30 non-null object\n",
      "Job                 30 non-null object\n",
      "IP Address          30 non-null object\n",
      "Language            30 non-null object\n",
      "Purchase Price      30 non-null float64\n",
      "dtypes: float64(1), int64(2), object(11)\n",
      "memory usage: 3.5+ KB\n"
     ]
    }
   ],
   "source": []
  },
  {
   "cell_type": "markdown",
   "metadata": {
    "id": "feVAlLL_6NiM"
   },
   "source": [
    "** How many people made the purchase during the AM and how many people made the purchase during PM ? **\n",
    "\n",
    "**(Hint: Check out [value_counts()](http://pandas.pydata.org/pandas-docs/stable/generated/pandas.Series.value_counts.html) ) **"
   ]
  },
  {
   "cell_type": "code",
   "execution_count": 33,
   "metadata": {
    "id": "MVOWl7o06NiN",
    "outputId": "9d295352-c87c-4c6b-8aff-2435df47f494"
   },
   "outputs": [
    {
     "name": "stdout",
     "output_type": "stream",
     "text": [
      "AM 4932\n",
      "PM 5068\n"
     ]
    }
   ],
   "source": [
    "# Count the number of purchases during AM and PM\n",
    "purchase_counts = ecom['AM or PM'].value_counts()\n",
    "\n",
    "# Display the count for AM and PM purchases\n",
    "print(\"AM\",purchase_counts['AM'])\n",
    "print(\"PM\",purchase_counts['PM'])"
   ]
  },
  {
   "cell_type": "markdown",
   "metadata": {
    "id": "4yJndiIl6NiN"
   },
   "source": [
    "** What are the 5 most common Job Titles? **"
   ]
  },
  {
   "cell_type": "code",
   "execution_count": 36,
   "metadata": {
    "id": "4UBLJ4476NiN",
    "outputId": "bbe80791-31e6-4796-9e92-d5e8a49da535"
   },
   "outputs": [
    {
     "name": "stdout",
     "output_type": "stream",
     "text": [
      "Top 5 Most Common Job Titles:\n",
      "Interior and spatial designer    31\n",
      "Lawyer                           30\n",
      "Social researcher                28\n",
      "Purchasing manager               27\n",
      "Designer, jewellery              27\n",
      "Name: Job, dtype: int64\n"
     ]
    }
   ],
   "source": [
    "# Find the 5 most common job titles\n",
    "top_job_titles = ecom['Job'].value_counts().head(5)\n",
    "\n",
    "# Display the 5 most common job titles\n",
    "print(\"Top 5 Most Common Job Titles:\")\n",
    "print(top_job_titles)"
   ]
  },
  {
   "cell_type": "markdown",
   "metadata": {
    "id": "liYGLHZi6NiO"
   },
   "source": [
    "** Someone made a purchase that came from Lot: \"90 WT\" , what was the Purchase Price for this transaction? **"
   ]
  },
  {
   "cell_type": "code",
   "execution_count": null,
   "metadata": {},
   "outputs": [],
   "source": []
  },
  {
   "cell_type": "code",
   "execution_count": 40,
   "metadata": {
    "id": "7kqlqdP_6NiP",
    "outputId": "db57c9e0-7862-4399-dad6-92c99bab6a61"
   },
   "outputs": [
    {
     "name": "stdout",
     "output_type": "stream",
     "text": [
      "513    75.1\n",
      "Name: Purchase Price, dtype: float64\n"
     ]
    }
   ],
   "source": [
    "# Filter the DataFrame for the transaction with Lot \"90 WT\"\n",
    "purchase_price = ecom[ecom['Lot'] == '90 WT']['Purchase Price']\n",
    "\n",
    "# Display the purchase price of the transaction\n",
    "print(purchase_price)"
   ]
  },
  {
   "cell_type": "markdown",
   "metadata": {
    "id": "2hyetIBA6NiR"
   },
   "source": [
    "** What is the email of the person with the following Credit Card Number: 4926535242672853 **"
   ]
  },
  {
   "cell_type": "code",
   "execution_count": 43,
   "metadata": {
    "id": "vpQpJbdb6NiR",
    "outputId": "317dca8a-2160-48aa-cc87-6bba763186fc"
   },
   "outputs": [
    {
     "name": "stdout",
     "output_type": "stream",
     "text": [
      "1234    bondellen@williams-garza.com\n",
      "Name: Email, dtype: object\n"
     ]
    }
   ],
   "source": [
    "# Filter the DataFrame for the person with the specified Credit Card Number\n",
    "email = ecom[ecom['Credit Card'] == 4926535242672853]['Email']\n",
    "\n",
    "# Display the email of the person\n",
    "print(email)"
   ]
  },
  {
   "cell_type": "markdown",
   "metadata": {
    "id": "b5z5ju8N6NiS"
   },
   "source": [
    "** How many people have American Express as their Credit Card Provider *and* made a purchase above $95 ?**"
   ]
  },
  {
   "cell_type": "code",
   "execution_count": 55,
   "metadata": {},
   "outputs": [
    {
     "name": "stdout",
     "output_type": "stream",
     "text": [
      "39\n"
     ]
    }
   ],
   "source": [
    "filtered_users = ecom[(ecom['CC Provider'] == 'American Express') & (ecom['Purchase Price'] > 95)]\n",
    "# Count the number of filtered users\n",
    "num_filtered_users = len(filtered_users)\n",
    "\n",
    "# Display the count of users\n",
    "print(num_filtered_users)\n"
   ]
  },
  {
   "cell_type": "code",
   "execution_count": null,
   "metadata": {
    "id": "zNbSGG-P6NiS",
    "outputId": "29efa6d4-a5b3-4cd1-8807-d6b7c91aa3a7"
   },
   "outputs": [
    {
     "data": {
      "text/plain": [
       "Address             39\n",
       "Lot                 39\n",
       "AM or PM            39\n",
       "Browser Info        39\n",
       "Company             39\n",
       "Credit Card         39\n",
       "CC Exp Date         39\n",
       "CC Security Code    39\n",
       "CC Provider         39\n",
       "Email               39\n",
       "Job                 39\n",
       "IP Address          39\n",
       "Language            39\n",
       "Purchase Price      39\n",
       "dtype: int64"
      ]
     },
     "execution_count": 101,
     "metadata": {},
     "output_type": "execute_result"
    }
   ],
   "source": []
  },
  {
   "cell_type": "markdown",
   "metadata": {
    "id": "749eIOh_6NiS"
   },
   "source": [
    "** Hard: How many people have a credit card that expires in 2025? **"
   ]
  },
  {
   "cell_type": "code",
   "execution_count": 57,
   "metadata": {
    "id": "7RFgFLYV6NiT",
    "outputId": "c5322f82-0c3b-4245-811a-5134f4e480b1"
   },
   "outputs": [
    {
     "name": "stdout",
     "output_type": "stream",
     "text": [
      "1033\n"
     ]
    }
   ],
   "source": [
    "# Filter the DataFrame for people with a credit card that expires in 2025\n",
    "filtered_users = ecom[ecom['CC Exp Date'].apply(lambda x: x[-2:]) == '25']\n",
    "\n",
    "# Count the number of filtered users\n",
    "num_filtered_users = len(filtered_users)\n",
    "\n",
    "# Display the count of users\n",
    "print(num_filtered_users)"
   ]
  },
  {
   "cell_type": "markdown",
   "metadata": {
    "id": "11ND45up6NiT"
   },
   "source": [
    "** Hard: What are the top 5 most popular email providers/hosts (e.g. gmail.com, yahoo.com, etc...) **"
   ]
  },
  {
   "cell_type": "code",
   "execution_count": 58,
   "metadata": {
    "id": "xB-2E7sk6NiT",
    "outputId": "b85ceea3-b65f-41bb-ddb3-312ab84c7585"
   },
   "outputs": [
    {
     "name": "stdout",
     "output_type": "stream",
     "text": [
      "hotmail.com     1638\n",
      "yahoo.com       1616\n",
      "gmail.com       1605\n",
      "smith.com         42\n",
      "williams.com      37\n",
      "Name: Email Domain, dtype: int64\n"
     ]
    }
   ],
   "source": [
    "# Extract the email domain using string manipulation\n",
    "ecom['Email Domain'] = ecom['Email'].str.split('@').str[1]\n",
    "\n",
    "# Find the top 5 most popular email providers/hosts\n",
    "top_email_providers = ecom['Email Domain'].value_counts().head(5)\n",
    "\n",
    "# Display the top 5 most popular email providers/hosts\n",
    "print(top_email_providers)"
   ]
  },
  {
   "cell_type": "markdown",
   "metadata": {
    "id": "nOwza0LI6NiU"
   },
   "source": [
    "# Great Job!"
   ]
  }
 ],
 "metadata": {
  "colab": {
   "provenance": []
  },
  "kernelspec": {
   "display_name": "Python 3 (ipykernel)",
   "language": "python",
   "name": "python3"
  },
  "language_info": {
   "codemirror_mode": {
    "name": "ipython",
    "version": 3
   },
   "file_extension": ".py",
   "mimetype": "text/x-python",
   "name": "python",
   "nbconvert_exporter": "python",
   "pygments_lexer": "ipython3",
   "version": "3.10.9"
  }
 },
 "nbformat": 4,
 "nbformat_minor": 1
}
